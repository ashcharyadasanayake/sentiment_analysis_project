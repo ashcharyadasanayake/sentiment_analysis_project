{
 "cells": [
  {
   "cell_type": "code",
   "execution_count": 4,
   "metadata": {},
   "outputs": [],
   "source": [
    "import numpy as np\n"
   ]
  },
  {
   "cell_type": "code",
   "execution_count": 5,
   "metadata": {},
   "outputs": [],
   "source": [
    "import json\n",
    "with open ('../artifacts/kaggle.json', 'r')as file:\n",
    "    data = json.load(file)"
   ]
  },
  {
   "cell_type": "code",
   "execution_count": 6,
   "metadata": {},
   "outputs": [
    {
     "data": {
      "text/plain": [
       "{'username': 'ashcharyadasanayake', 'key': '2e04898080855c009cc2d67c6457668e'}"
      ]
     },
     "execution_count": 6,
     "metadata": {},
     "output_type": "execute_result"
    }
   ],
   "source": [
    "data"
   ]
  },
  {
   "cell_type": "code",
   "execution_count": 7,
   "metadata": {},
   "outputs": [
    {
     "name": "stdout",
     "output_type": "stream",
     "text": [
      "Collecting kaggle\n",
      "  Downloading kaggle-1.6.6.tar.gz (84 kB)\n",
      "     ---------------------------------------- 0.0/84.6 kB ? eta -:--:--\n",
      "     ---- ----------------------------------- 10.2/84.6 kB ? eta -:--:--\n",
      "     ------------- ------------------------ 30.7/84.6 kB 262.6 kB/s eta 0:00:01\n",
      "     ------------- ------------------------ 30.7/84.6 kB 262.6 kB/s eta 0:00:01\n",
      "     ------------- ------------------------ 30.7/84.6 kB 262.6 kB/s eta 0:00:01\n",
      "     ------------- ------------------------ 30.7/84.6 kB 262.6 kB/s eta 0:00:01\n",
      "     ------------- ------------------------ 30.7/84.6 kB 262.6 kB/s eta 0:00:01\n",
      "     ------------- ------------------------ 30.7/84.6 kB 262.6 kB/s eta 0:00:01\n",
      "     ------------------ -------------------- 41.0/84.6 kB 89.3 kB/s eta 0:00:01\n",
      "     --------------------------- ---------- 61.4/84.6 kB 130.9 kB/s eta 0:00:01\n",
      "     --------------------------- ---------- 61.4/84.6 kB 130.9 kB/s eta 0:00:01\n",
      "     ------------------------------------ - 81.9/84.6 kB 148.1 kB/s eta 0:00:01\n",
      "     -------------------------------------- 84.6/84.6 kB 148.6 kB/s eta 0:00:00\n",
      "  Preparing metadata (setup.py): started\n",
      "  Preparing metadata (setup.py): finished with status 'done'\n",
      "Requirement already satisfied: six>=1.10 in f:\\projects\\sentiment_analysis_project\\env\\lib\\site-packages (from kaggle) (1.16.0)\n",
      "Requirement already satisfied: certifi in f:\\projects\\sentiment_analysis_project\\env\\lib\\site-packages (from kaggle) (2024.2.2)\n",
      "Requirement already satisfied: python-dateutil in f:\\projects\\sentiment_analysis_project\\env\\lib\\site-packages (from kaggle) (2.9.0.post0)\n",
      "Requirement already satisfied: requests in f:\\projects\\sentiment_analysis_project\\env\\lib\\site-packages (from kaggle) (2.31.0)\n",
      "Collecting tqdm (from kaggle)\n",
      "  Downloading tqdm-4.66.2-py3-none-any.whl.metadata (57 kB)\n",
      "     ---------------------------------------- 0.0/57.6 kB ? eta -:--:--\n",
      "     ------- -------------------------------- 10.2/57.6 kB ? eta -:--:--\n",
      "     --------------------------------- ---- 51.2/57.6 kB 650.2 kB/s eta 0:00:01\n",
      "     -------------------------------------- 57.6/57.6 kB 599.3 kB/s eta 0:00:00\n",
      "Collecting python-slugify (from kaggle)\n",
      "  Downloading python_slugify-8.0.4-py2.py3-none-any.whl.metadata (8.5 kB)\n",
      "Requirement already satisfied: urllib3 in f:\\projects\\sentiment_analysis_project\\env\\lib\\site-packages (from kaggle) (2.2.1)\n",
      "Requirement already satisfied: bleach in f:\\projects\\sentiment_analysis_project\\env\\lib\\site-packages (from kaggle) (6.1.0)\n",
      "Requirement already satisfied: webencodings in f:\\projects\\sentiment_analysis_project\\env\\lib\\site-packages (from bleach->kaggle) (0.5.1)\n",
      "Collecting text-unidecode>=1.3 (from python-slugify->kaggle)\n",
      "  Downloading text_unidecode-1.3-py2.py3-none-any.whl.metadata (2.4 kB)\n",
      "Requirement already satisfied: charset-normalizer<4,>=2 in f:\\projects\\sentiment_analysis_project\\env\\lib\\site-packages (from requests->kaggle) (3.3.2)\n",
      "Requirement already satisfied: idna<4,>=2.5 in f:\\projects\\sentiment_analysis_project\\env\\lib\\site-packages (from requests->kaggle) (3.6)\n",
      "Requirement already satisfied: colorama in f:\\projects\\sentiment_analysis_project\\env\\lib\\site-packages (from tqdm->kaggle) (0.4.6)\n",
      "Downloading python_slugify-8.0.4-py2.py3-none-any.whl (10 kB)\n",
      "Downloading tqdm-4.66.2-py3-none-any.whl (78 kB)\n",
      "   ---------------------------------------- 0.0/78.3 kB ? eta -:--:--\n",
      "   --------------- ------------------------ 30.7/78.3 kB 1.3 MB/s eta 0:00:01\n",
      "   -------------------- ------------------- 41.0/78.3 kB 487.6 kB/s eta 0:00:01\n",
      "   ---------------------------------------- 78.3/78.3 kB 618.7 kB/s eta 0:00:00\n",
      "Downloading text_unidecode-1.3-py2.py3-none-any.whl (78 kB)\n",
      "   ---------------------------------------- 0.0/78.2 kB ? eta -:--:--\n",
      "   ----- ---------------------------------- 10.2/78.2 kB ? eta -:--:--\n",
      "   -------------------- ------------------- 41.0/78.2 kB 393.8 kB/s eta 0:00:01\n",
      "   ---------------------------------------- 78.2/78.2 kB 543.3 kB/s eta 0:00:00\n",
      "Building wheels for collected packages: kaggle\n",
      "  Building wheel for kaggle (setup.py): started\n",
      "  Building wheel for kaggle (setup.py): finished with status 'done'\n",
      "  Created wheel for kaggle: filename=kaggle-1.6.6-py3-none-any.whl size=111953 sha256=155069b7b9745d975bfe86525ff2146da029035b170018975b45065496f50a6d\n",
      "  Stored in directory: c:\\users\\ashcharya\\appdata\\local\\pip\\cache\\wheels\\97\\06\\54\\3d44857e6aa73d66d0174f29389e7ea70c007105797e6ec05c\n",
      "Successfully built kaggle\n",
      "Installing collected packages: text-unidecode, tqdm, python-slugify, kaggle\n",
      "Successfully installed kaggle-1.6.6 python-slugify-8.0.4 text-unidecode-1.3 tqdm-4.66.2\n",
      "Note: you may need to restart the kernel to use updated packages.\n"
     ]
    }
   ],
   "source": [
    "pip install kaggle"
   ]
  },
  {
   "cell_type": "code",
   "execution_count": 8,
   "metadata": {},
   "outputs": [],
   "source": [
    "import os\n",
    "os.environ['KAGGLE_USERNAME'] = data ['username']\n",
    "os.environ['KAGGLE_KEY'] = data ['key']"
   ]
  },
  {
   "cell_type": "code",
   "execution_count": null,
   "metadata": {},
   "outputs": [],
   "source": [
    "from kaggle.api.kaggle_api_extended import kaggleApi\n",
    "api = kaggleApi()\n",
    "api.authenticate()"
   ]
  },
  {
   "cell_type": "code",
   "execution_count": 13,
   "metadata": {},
   "outputs": [
    {
     "name": "stdout",
     "output_type": "stream",
     "text": [
      "Requirement already satisfied: kaggle in f:\\projects\\sentiment_analysis_project\\env\\lib\\site-packages (1.6.6)\n",
      "Requirement already satisfied: six>=1.10 in f:\\projects\\sentiment_analysis_project\\env\\lib\\site-packages (from kaggle) (1.16.0)\n",
      "Requirement already satisfied: certifi in f:\\projects\\sentiment_analysis_project\\env\\lib\\site-packages (from kaggle) (2024.2.2)\n",
      "Requirement already satisfied: python-dateutil in f:\\projects\\sentiment_analysis_project\\env\\lib\\site-packages (from kaggle) (2.9.0.post0)\n",
      "Requirement already satisfied: requests in f:\\projects\\sentiment_analysis_project\\env\\lib\\site-packages (from kaggle) (2.31.0)\n",
      "Requirement already satisfied: tqdm in f:\\projects\\sentiment_analysis_project\\env\\lib\\site-packages (from kaggle) (4.66.2)\n",
      "Requirement already satisfied: python-slugify in f:\\projects\\sentiment_analysis_project\\env\\lib\\site-packages (from kaggle) (8.0.4)\n",
      "Requirement already satisfied: urllib3 in f:\\projects\\sentiment_analysis_project\\env\\lib\\site-packages (from kaggle) (2.2.1)\n",
      "Requirement already satisfied: bleach in f:\\projects\\sentiment_analysis_project\\env\\lib\\site-packages (from kaggle) (6.1.0)\n",
      "Requirement already satisfied: webencodings in f:\\projects\\sentiment_analysis_project\\env\\lib\\site-packages (from bleach->kaggle) (0.5.1)\n",
      "Requirement already satisfied: text-unidecode>=1.3 in f:\\projects\\sentiment_analysis_project\\env\\lib\\site-packages (from python-slugify->kaggle) (1.3)\n",
      "Requirement already satisfied: charset-normalizer<4,>=2 in f:\\projects\\sentiment_analysis_project\\env\\lib\\site-packages (from requests->kaggle) (3.3.2)\n",
      "Requirement already satisfied: idna<4,>=2.5 in f:\\projects\\sentiment_analysis_project\\env\\lib\\site-packages (from requests->kaggle) (3.6)\n",
      "Requirement already satisfied: colorama in f:\\projects\\sentiment_analysis_project\\env\\lib\\site-packages (from tqdm->kaggle) (0.4.6)\n",
      "Note: you may need to restart the kernel to use updated packages.\n"
     ]
    }
   ],
   "source": [
    "pip install --upgrade kaggle"
   ]
  }
 ],
 "metadata": {
  "kernelspec": {
   "display_name": "Python 3 (ipykernel)",
   "language": "python",
   "name": "python3"
  },
  "language_info": {
   "codemirror_mode": {
    "name": "ipython",
    "version": 3
   },
   "file_extension": ".py",
   "mimetype": "text/x-python",
   "name": "python",
   "nbconvert_exporter": "python",
   "pygments_lexer": "ipython3",
   "version": "3.11.1"
  }
 },
 "nbformat": 4,
 "nbformat_minor": 4
}
